{
 "cells": [
  {
   "cell_type": "code",
   "execution_count": null,
   "id": "5b7d3ed3-a57a-43cb-836b-0262182dc5c4",
   "metadata": {},
   "outputs": [],
   "source": [
    "from pyspark.sql import SparkSession\n",
    "from pyspark.sql.functions import from_json, udf, col\n",
    "from pyspark.sql.types import ArrayType, IntegerType, LongType, StructType, StringType\n",
    "from tweet_parser import TweetParser\n",
    "\n",
    "spark = SparkSession.builder.appName(\"Wordle score streaming\").getOrCreate()\n",
    "\n",
    "def getResults(text):\n",
    "    return TweetParser(text).wordle_result_exist()\n",
    "\n",
    "## UDF declaration\n",
    "attempts_fn = udf(lambda  x: getResults(x), StringType())\n",
    "\n",
    "lines = spark \\\n",
    "    .readStream \\\n",
    "    .format(\"socket\") \\\n",
    "    .option(\"host\", \"localhost\") \\\n",
    "    .option(\"port\", 9008) \\\n",
    "    .load()\n",
    "\n",
    "schema = StructType(). \\\n",
    "    add('id', LongType(), False). \\\n",
    "    add('created_at', StringType(), False) .\\\n",
    "    add('user', StructType().add(\"id_str\",StringType(), False), False). \\\n",
    "    add('text', StringType(), False)\n",
    "\n",
    "\n",
    "filtered_data = lines \\\n",
    "    .selectExpr('CAST(value AS STRING)') \\\n",
    "    .select(from_json('value', schema).alias('tweet_data')) \\\n",
    "    .select('tweet_data.id', 'tweet_data.created_at', 'tweet_data.user.id_str', 'tweet_data.text') \\\n",
    "    .withColumn('results', attempts_fn(col('text')))\n",
    "filtered_data = filtered_data.filter(col('results') != \"false\")\n",
    "\n",
    "\n",
    "filtered_data.printSchema()\n",
    "\n",
    "# Start running the query that prints tweet data to the console\n",
    "query = filtered_data \\\n",
    "    .writeStream \\\n",
    "    .format(\"console\") \\\n",
    "    .outputMode(\"append\") \\\n",
    "    .trigger(processingTime= \"5 seconds\") \\\n",
    "    .start()\n",
    "\n",
    "query.awaitTermination()"
   ]
  }
 ],
 "metadata": {
  "kernelspec": {
   "display_name": "wordle_pulse_venv",
   "language": "python",
   "name": "wordle_pulse_venv"
  },
  "language_info": {
   "codemirror_mode": {
    "name": "ipython",
    "version": 3
   },
   "file_extension": ".py",
   "mimetype": "text/x-python",
   "name": "python",
   "nbconvert_exporter": "python",
   "pygments_lexer": "ipython3",
   "version": "3.8.12"
  }
 },
 "nbformat": 4,
 "nbformat_minor": 5
}

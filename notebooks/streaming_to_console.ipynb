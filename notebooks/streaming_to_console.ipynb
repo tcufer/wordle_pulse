{
 "cells": [
  {
   "cell_type": "code",
   "execution_count": null,
   "id": "8cbd94df-9efd-436c-a23b-ff9ef2f44a75",
   "metadata": {},
   "outputs": [],
   "source": []
  },
  {
   "cell_type": "code",
   "execution_count": null,
   "id": "5b7d3ed3-a57a-43cb-836b-0262182dc5c4",
   "metadata": {},
   "outputs": [
    {
     "name": "stderr",
     "output_type": "stream",
     "text": [
      "WARNING: An illegal reflective access operation has occurred\n",
      "WARNING: Illegal reflective access by org.apache.spark.unsafe.Platform (file:/usr/local/Cellar/apache-spark/3.2.1/libexec/jars/spark-unsafe_2.12-3.2.1.jar) to constructor java.nio.DirectByteBuffer(long,int)\n",
      "WARNING: Please consider reporting this to the maintainers of org.apache.spark.unsafe.Platform\n",
      "WARNING: Use --illegal-access=warn to enable warnings of further illegal reflective access operations\n",
      "WARNING: All illegal access operations will be denied in a future release\n",
      "Using Spark's default log4j profile: org/apache/spark/log4j-defaults.properties\n",
      "Setting default log level to \"WARN\".\n",
      "To adjust logging level use sc.setLogLevel(newLevel). For SparkR, use setLogLevel(newLevel).\n",
      "22/02/03 16:15:17 WARN NativeCodeLoader: Unable to load native-hadoop library for your platform... using builtin-java classes where applicable\n",
      "22/02/03 16:15:18 WARN Utils: Service 'SparkUI' could not bind on port 4040. Attempting port 4041.\n",
      "22/02/03 16:15:20 WARN TextSocketSourceProvider: The socket source should not be used for production applications! It does not support recovery.\n"
     ]
    },
    {
     "name": "stdout",
     "output_type": "stream",
     "text": [
      "root\n",
      " |-- id: long (nullable = true)\n",
      " |-- created_at: string (nullable = true)\n",
      " |-- id_str: string (nullable = true)\n",
      " |-- text: string (nullable = true)\n",
      "\n"
     ]
    },
    {
     "name": "stderr",
     "output_type": "stream",
     "text": [
      "22/02/03 16:15:22 WARN ResolveWriteToStream: Temporary checkpoint location created which is deleted normally when the query didn't fail: /private/var/folders/_p/fncz_94x46n3hpt2_kbtc8540000gn/T/temporary-b95acc8a-7441-4ace-b7fa-51acb4dfdcf8. If it's required to delete it under any circumstances, please set spark.sql.streaming.forceDeleteTempCheckpointLocation to true. Important to know deleting temp checkpoint folder is best effort.\n",
      "22/02/03 16:15:22 WARN ResolveWriteToStream: spark.sql.adaptive.enabled is not supported in streaming DataFrames/Datasets and will be disabled.\n",
      "                                                                                \r"
     ]
    },
    {
     "name": "stdout",
     "output_type": "stream",
     "text": [
      "-------------------------------------------\n",
      "Batch: 0\n",
      "-------------------------------------------\n",
      "+---+----------+------+----+\n",
      "| id|created_at|id_str|text|\n",
      "+---+----------+------+----+\n",
      "+---+----------+------+----+\n",
      "\n"
     ]
    },
    {
     "name": "stderr",
     "output_type": "stream",
     "text": [
      "22/02/03 16:15:28 WARN TextSocketMicroBatchStream: Stream closed by localhost:9008\n"
     ]
    },
    {
     "name": "stdout",
     "output_type": "stream",
     "text": [
      "-------------------------------------------\n",
      "Batch: 1\n",
      "-------------------------------------------\n",
      "+-------------------+--------------------+---------+--------------------+\n",
      "|                 id|          created_at|   id_str|                text|\n",
      "+-------------------+--------------------+---------+--------------------+\n",
      "|1489256188583690240|Thu Feb 03 15:15:...|178582264|Why isn’t Trump i...|\n",
      "+-------------------+--------------------+---------+--------------------+\n",
      "\n"
     ]
    }
   ],
   "source": [
    "from pyspark.sql import SparkSession\n",
    "from pyspark.sql.functions import explode\n",
    "from pyspark.sql.functions import split, get_json_object, json_tuple, from_json\n",
    "from pyspark.sql.types import *\n",
    "import json\n",
    "\n",
    "spark = SparkSession.builder.appName(\"Wordle score streaming\").getOrCreate()\n",
    "\n",
    "\n",
    "lines = spark \\\n",
    "    .readStream \\\n",
    "    .format(\"socket\") \\\n",
    "    .option(\"host\", \"localhost\") \\\n",
    "    .option(\"port\", 9008) \\\n",
    "    .load()\n",
    "\n",
    "# Split the lines into words\n",
    "# words = lines.select(\n",
    "#    explode(\n",
    "#        split(lines.value, 'Wordle 222 ')\n",
    "#    ).alias(\"word\")\n",
    "# )\n",
    "\n",
    "\n",
    "schema = StructType(). \\\n",
    "    add('id', LongType(), False). \\\n",
    "    add('created_at', StringType(), False) .\\\n",
    "    add('user', StructType().add(\"id_str\",StringType(), False), False). \\\n",
    "    add('text', StringType(), False)\n",
    "\n",
    "\n",
    "filtered_data = lines \\\n",
    "    .selectExpr('CAST(value AS STRING)') \\\n",
    "    .select(from_json('value', schema).alias('tweet_data')) \\\n",
    "    .select('tweet_data.id', 'tweet_data.created_at', 'tweet_data.user.id_str', 'tweet_data.text')\n",
    "\n",
    "\n",
    "df.printSchema()\n",
    "\n",
    "\n",
    "# # Generate running word count\n",
    "# wordCounts = words.groupBy(\"word\").count()\n",
    "\n",
    "\n",
    "\n",
    "# Start running the query that prints tweet data to the console\n",
    "query = filtered_data \\\n",
    "    .writeStream \\\n",
    "    .queryName(\"word_counts\") \\\n",
    "    .format(\"console\") \\\n",
    "    .outputMode(\"append\") \\\n",
    "    .start()\n",
    "\n",
    "query.awaitTermination()"
   ]
  },
  {
   "cell_type": "code",
   "execution_count": null,
   "id": "d5ce8d2b-af5e-4da3-b689-12b534d59f9c",
   "metadata": {},
   "outputs": [],
   "source": [
    "lines.printSchema()"
   ]
  },
  {
   "cell_type": "code",
   "execution_count": null,
   "id": "7ad78782-ef01-4fcf-9975-4d81e94b9b8e",
   "metadata": {},
   "outputs": [],
   "source": []
  }
 ],
 "metadata": {
  "kernelspec": {
   "display_name": "wordle_pulse_venv",
   "language": "python",
   "name": "wordle_pulse_venv"
  },
  "language_info": {
   "codemirror_mode": {
    "name": "ipython",
    "version": 3
   },
   "file_extension": ".py",
   "mimetype": "text/x-python",
   "name": "python",
   "nbconvert_exporter": "python",
   "pygments_lexer": "ipython3",
   "version": "3.8.12"
  }
 },
 "nbformat": 4,
 "nbformat_minor": 5
}
